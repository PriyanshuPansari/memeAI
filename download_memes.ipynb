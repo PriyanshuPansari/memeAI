{
 "cells": [
  {
   "attachments": {},
   "cell_type": "markdown",
   "metadata": {},
   "source": [
    "# Download Memes"
   ]
  },
  {
   "cell_type": "code",
   "execution_count": 43,
   "metadata": {},
   "outputs": [],
   "source": [
    "import os\n",
    "import json\n",
    "import requests\n",
    "import pathlib"
   ]
  },
  {
   "attachments": {},
   "cell_type": "markdown",
   "metadata": {},
   "source": [
    "## Create images directory"
   ]
  },
  {
   "cell_type": "code",
   "execution_count": 44,
   "metadata": {},
   "outputs": [],
   "source": [
    "IMAGES_ROOT_DIR = 'images'\n",
    "if not os.path.exists(IMAGES_ROOT_DIR):\n",
    "    os.makedirs(IMAGES_ROOT_DIR)"
   ]
  },
  {
   "attachments": {},
   "cell_type": "markdown",
   "metadata": {},
   "source": [
    "## Read in scrapped meme data"
   ]
  },
  {
   "cell_type": "code",
   "execution_count": 45,
   "metadata": {},
   "outputs": [],
   "source": [
    "data = None\n",
    "with open('scraped_meme_data.json', 'r') as f:\n",
    "    data = json.load(f)"
   ]
  },
  {
   "attachments": {},
   "cell_type": "markdown",
   "metadata": {},
   "source": [
    "## Download memes to current directory"
   ]
  },
  {
   "cell_type": "code",
   "execution_count": 40,
   "metadata": {},
   "outputs": [],
   "source": [
    "memes_to_descriptions = []\n",
    "for i, d in enumerate(data):\n",
    "    url = d['imageURL']\n",
    "    url = url.replace('%3A', ':')\n",
    "    url = url.replace('%2F', '/')\n",
    "    url_path = url[url.find('url=')+4:url.find('.png')+4]\n",
    "\n",
    "    filename = pathlib.Path(url_path).name\n",
    "\n",
    "    memes_to_descriptions.append({\n",
    "        \"imageURL\": f\"{IMAGES_ROOT_DIR}/{filename}\",\n",
    "        \"memeDescription\": d['memeDescription']\n",
    "        })\n",
    "\n",
    "    r = requests.get(url_path, allow_redirects=True)\n",
    "    with open(f'{filename}', 'wb') as f:\n",
    "        f.write(r.content)"
   ]
  },
  {
   "attachments": {},
   "cell_type": "markdown",
   "metadata": {},
   "source": [
    "## Save cleaned data to new JSON file"
   ]
  },
  {
   "cell_type": "code",
   "execution_count": 42,
   "metadata": {},
   "outputs": [],
   "source": [
    "with open('cleaned_scrapped_meme_data.json', 'w') as f:\n",
    "    json.dump(memes_to_descriptions, f, indent=4)"
   ]
  }
 ],
 "metadata": {
  "kernelspec": {
   "display_name": "memeAI-03w4Smwu",
   "language": "python",
   "name": "python3"
  },
  "language_info": {
   "codemirror_mode": {
    "name": "ipython",
    "version": 3
   },
   "file_extension": ".py",
   "mimetype": "text/x-python",
   "name": "python",
   "nbconvert_exporter": "python",
   "pygments_lexer": "ipython3",
   "version": "3.9.16"
  },
  "orig_nbformat": 4,
  "vscode": {
   "interpreter": {
    "hash": "512f68a1d5ff8b124b55644b71879bdec8ae0acf826f624a30849fedfe85fcbb"
   }
  }
 },
 "nbformat": 4,
 "nbformat_minor": 2
}
